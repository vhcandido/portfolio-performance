{
 "cells": [
  {
   "cell_type": "code",
   "execution_count": 1,
   "metadata": {},
   "outputs": [],
   "source": [
    "%matplotlib inline\n",
    "import numpy as np\n",
    "import rpy2\n",
    "from rpy2.robjects import pandas2ri, r as rcall\n",
    "from scipy.ndimage import convolve\n",
    "from scipy import ndimage\n",
    "import matplotlib.pyplot as plt\n",
    "import pandas as pd\n",
    "pandas2ri.activate()"
   ]
  },
  {
   "cell_type": "code",
   "execution_count": 11,
   "metadata": {},
   "outputs": [],
   "source": [
    "from ipywidgets import interact, interactive, widgets, Layout, Button\n",
    "from IPython.display import Audio, display\n",
    "import numpy as np"
   ]
  },
  {
   "cell_type": "code",
   "execution_count": 8,
   "metadata": {},
   "outputs": [
    {
     "name": "stdout",
     "output_type": "stream",
     "text": [
      "[load_rda] loading \"/home/vhcandido/Documents/usp/research/performance/results/RSI/EURUSD_days_.rda\"\n"
     ]
    }
   ],
   "source": [
    "import sys\n",
    "sys.path.append(\"..\") # load package in parent folder\n",
    "import load_r\n",
    "load_r.load_rda(from_dir='../../results/')\n",
    "balance = load_r.get_balance()\n",
    "returns = load_r.get_returns()\n",
    "returns_annualized_days = (1+returns)**365-1 #annualized returns\n",
    "zlim, zrange = load_r.find_zlim(balance, center=1)"
   ]
  },
  {
   "cell_type": "code",
   "execution_count": 21,
   "metadata": {},
   "outputs": [
    {
     "data": {
      "application/vnd.jupyter.widget-view+json": {
       "model_id": "2010bbde1d884586a6207d390271960a",
       "version_major": 2,
       "version_minor": 0
      },
      "text/html": [
       "<p>Failed to display Jupyter Widget of type <code>interactive</code>.</p>\n",
       "<p>\n",
       "  If you're reading this message in the Jupyter Notebook or JupyterLab Notebook, it may mean\n",
       "  that the widgets JavaScript is still loading. If this message persists, it\n",
       "  likely means that the widgets JavaScript library is either not installed or\n",
       "  not enabled. See the <a href=\"https://ipywidgets.readthedocs.io/en/stable/user_install.html\">Jupyter\n",
       "  Widgets Documentation</a> for setup instructions.\n",
       "</p>\n",
       "<p>\n",
       "  If you're reading this message in another frontend (for example, a static\n",
       "  rendering on GitHub or <a href=\"https://nbviewer.jupyter.org/\">NBViewer</a>),\n",
       "  it may mean that your frontend doesn't currently support widgets.\n",
       "</p>\n"
      ],
      "text/plain": [
       "interactive(children=(IntSlider(value=679, continuous_update=False, description='Datetime', layout=Layout(height='100px', width='80%'), max=679), IntRangeSlider(value=(0, 49), continuous_update=False, description='Param 1', layout=Layout(height='100px', width='80%'), max=49), IntRangeSlider(value=(0, 49), continuous_update=False, description='Param 2', layout=Layout(height='100px', width='80%'), max=49), Output()), _dom_classes=('widget-interact',))"
      ]
     },
     "metadata": {},
     "output_type": "display_data"
    },
    {
     "data": {
      "text/plain": [
       "<function __main__.f>"
      ]
     },
     "execution_count": 21,
     "metadata": {},
     "output_type": "execute_result"
    }
   ],
   "source": [
    "def f(n, j, i):\n",
    "    fig = plt.figure(figsize=(8, 6))\n",
    "    ax = fig.add_subplot(111)\n",
    "    ax.imshow(balance[n, i[0]:i[1], j[0]:j[1]], vmin=zlim[0], vmax=zlim[1], cmap=plt.cm.jet)\n",
    "    #plt.show()\n",
    "    \n",
    "w1 = widgets.IntSlider(min=0, max=len(balance)-1, step=1,\n",
    "                       value=len(balance)-1, description='Datetime',\n",
    "                       continuous_update=False,\n",
    "                       layout=Layout(width='80%', height='100px'))\n",
    "\n",
    "w2 = widgets.IntRangeSlider(min=0, max=balance.shape[1]-1, step=1,\n",
    "                            value=[0,balance.shape[1]-1], description='Param 1',\n",
    "                            continuous_update=False, layout=w1.layout)\n",
    "\n",
    "w3 = widgets.IntRangeSlider(min=0, max=balance.shape[2]-1, step=1,\n",
    "                            value=[0,balance.shape[2]-1], description='Param 2',\n",
    "                            continuous_update=False, layout=w1.layout)\n",
    "\n",
    "interact(f, n=w1, i=w3, j=w2, )"
   ]
  },
  {
   "cell_type": "code",
   "execution_count": null,
   "metadata": {},
   "outputs": [],
   "source": []
  },
  {
   "cell_type": "code",
   "execution_count": null,
   "metadata": {},
   "outputs": [],
   "source": []
  }
 ],
 "metadata": {
  "kernelspec": {
   "display_name": "Python 3",
   "language": "python",
   "name": "python3"
  },
  "language_info": {
   "codemirror_mode": {
    "name": "ipython",
    "version": 3
   },
   "file_extension": ".py",
   "mimetype": "text/x-python",
   "name": "python",
   "nbconvert_exporter": "python",
   "pygments_lexer": "ipython3",
   "version": "3.6.4"
  }
 },
 "nbformat": 4,
 "nbformat_minor": 2
}
